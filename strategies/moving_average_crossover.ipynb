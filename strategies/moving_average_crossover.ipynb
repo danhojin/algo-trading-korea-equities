{
 "cells": [
  {
   "cell_type": "markdown",
   "metadata": {},
   "source": [
    "# Building a moving average crossover trading strategy using python\n",
    "\n",
    "Based on a [blog post](https://www.jasonlee.mobi/projects/2018/5/18/building-a-momentum-trading-strategy-using-python)"
   ]
  },
  {
   "cell_type": "code",
   "execution_count": 6,
   "metadata": {},
   "outputs": [
    {
     "data": {
      "text/html": [
       "<div>\n",
       "<style scoped>\n",
       "    .dataframe tbody tr th:only-of-type {\n",
       "        vertical-align: middle;\n",
       "    }\n",
       "\n",
       "    .dataframe tbody tr th {\n",
       "        vertical-align: top;\n",
       "    }\n",
       "\n",
       "    .dataframe thead th {\n",
       "        text-align: right;\n",
       "    }\n",
       "</style>\n",
       "<table border=\"1\" class=\"dataframe\">\n",
       "  <thead>\n",
       "    <tr style=\"text-align: right;\">\n",
       "      <th></th>\n",
       "      <th>High</th>\n",
       "      <th>Low</th>\n",
       "      <th>Open</th>\n",
       "      <th>Close</th>\n",
       "      <th>Volume</th>\n",
       "      <th>Adj Close</th>\n",
       "    </tr>\n",
       "    <tr>\n",
       "      <th>Date</th>\n",
       "      <th></th>\n",
       "      <th></th>\n",
       "      <th></th>\n",
       "      <th></th>\n",
       "      <th></th>\n",
       "      <th></th>\n",
       "    </tr>\n",
       "  </thead>\n",
       "  <tbody>\n",
       "    <tr>\n",
       "      <th>2019-01-29</th>\n",
       "      <td>45500</td>\n",
       "      <td>44350</td>\n",
       "      <td>45050</td>\n",
       "      <td>45500</td>\n",
       "      <td>16215017</td>\n",
       "      <td>45500</td>\n",
       "    </tr>\n",
       "    <tr>\n",
       "      <th>2019-01-30</th>\n",
       "      <td>46400</td>\n",
       "      <td>44800</td>\n",
       "      <td>44800</td>\n",
       "      <td>46400</td>\n",
       "      <td>17505980</td>\n",
       "      <td>46400</td>\n",
       "    </tr>\n",
       "    <tr>\n",
       "      <th>2019-01-31</th>\n",
       "      <td>47050</td>\n",
       "      <td>46150</td>\n",
       "      <td>46650</td>\n",
       "      <td>46150</td>\n",
       "      <td>21621145</td>\n",
       "      <td>46150</td>\n",
       "    </tr>\n",
       "    <tr>\n",
       "      <th>2019-02-01</th>\n",
       "      <td>46950</td>\n",
       "      <td>46250</td>\n",
       "      <td>46650</td>\n",
       "      <td>46350</td>\n",
       "      <td>13832454</td>\n",
       "      <td>46350</td>\n",
       "    </tr>\n",
       "    <tr>\n",
       "      <th>2019-04-17</th>\n",
       "      <td>47600</td>\n",
       "      <td>47000</td>\n",
       "      <td>47300</td>\n",
       "      <td>47050</td>\n",
       "      <td>5467137</td>\n",
       "      <td>47050</td>\n",
       "    </tr>\n",
       "  </tbody>\n",
       "</table>\n",
       "</div>"
      ],
      "text/plain": [
       "             High    Low   Open  Close    Volume  Adj Close\n",
       "Date                                                       \n",
       "2019-01-29  45500  44350  45050  45500  16215017      45500\n",
       "2019-01-30  46400  44800  44800  46400  17505980      46400\n",
       "2019-01-31  47050  46150  46650  46150  21621145      46150\n",
       "2019-02-01  46950  46250  46650  46350  13832454      46350\n",
       "2019-04-17  47600  47000  47300  47050   5467137      47050"
      ]
     },
     "execution_count": 6,
     "metadata": {},
     "output_type": "execute_result"
    }
   ],
   "source": [
    "import pandas as pd\n",
    "import matplotlib.pyplot as plt\n",
    "import pandas_datareader.data as web\n",
    "import datetime\n",
    "\n",
    "start = datetime.datetime(2019, 1, 1)\n",
    "end = datetime.datetime(2019, 5, 1)\n",
    "\n",
    "f = web.DataReader('005930.KS', 'yahoo', start, end)\n",
    "f.tail()"
   ]
  },
  {
   "cell_type": "code",
   "execution_count": null,
   "metadata": {},
   "outputs": [],
   "source": []
  }
 ],
 "metadata": {
  "kernelspec": {
   "display_name": "Python 3",
   "language": "python",
   "name": "python3"
  },
  "language_info": {
   "codemirror_mode": {
    "name": "ipython",
    "version": 3
   },
   "file_extension": ".py",
   "mimetype": "text/x-python",
   "name": "python",
   "nbconvert_exporter": "python",
   "pygments_lexer": "ipython3",
   "version": "3.7.2"
  }
 },
 "nbformat": 4,
 "nbformat_minor": 2
}
