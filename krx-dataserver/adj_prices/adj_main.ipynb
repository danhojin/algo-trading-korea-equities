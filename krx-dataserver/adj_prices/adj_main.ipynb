{
 "cells": [
  {
   "cell_type": "code",
   "execution_count": 1,
   "metadata": {},
   "outputs": [
    {
     "data": {
      "text/plain": [
       "True"
      ]
     },
     "execution_count": 1,
     "metadata": {},
     "output_type": "execute_result"
    }
   ],
   "source": [
    "from environs import Env\n",
    "\n",
    "from models import (\n",
    "    db,\n",
    "    Asset,\n",
    "    DailyPrice,\n",
    ")\n",
    "\n",
    "env = Env()\n",
    "env.read_env()"
   ]
  },
  {
   "cell_type": "code",
   "execution_count": 2,
   "metadata": {},
   "outputs": [],
   "source": [
    "db.bind(provider='postgres',\n",
    "        user=env.str('DB_USER'),\n",
    "        password=env.str('DB_PASSWORD'),\n",
    "        host=env.str('DB_HOST'),\n",
    "        database=env.str('DB'),\n",
    "       )\n",
    "\n",
    "db.generate_mapping()"
   ]
  },
  {
   "cell_type": "code",
   "execution_count": 3,
   "metadata": {},
   "outputs": [
    {
     "data": {
      "text/plain": [
       "Asset['000020']"
      ]
     },
     "execution_count": 3,
     "metadata": {},
     "output_type": "execute_result"
    }
   ],
   "source": [
    "from pony import orm\n",
    "\n",
    "query = orm.select(a for a in Asset)\n",
    "query.first()"
   ]
  },
  {
   "cell_type": "code",
   "execution_count": 21,
   "metadata": {},
   "outputs": [
    {
     "name": "stdout",
     "output_type": "stream",
     "text": [
      "2001-08-07 10350.0\n",
      "2001-08-06 11050.0\n",
      "2001-08-03 11950.0\n",
      "2001-08-02 1730.0\n",
      "2001-08-01 1730.0\n",
      "2001-07-31 1730.0\n",
      "2001-07-30 1730.0\n"
     ]
    }
   ],
   "source": [
    "from datetime import date, timedelta\n",
    "from dateutil.parser import parse\n",
    "\n",
    "asset = '000120'\n",
    "sm_date = date(2001, 8, 3)\n",
    "del_days = timedelta(days=5)\n",
    "\n",
    "query = orm.select(dp for dp in DailyPrice if dp.asset.code == asset) \\\n",
    "    .filter(lambda x: x.date > sm_date - del_days and x.date < sm_date + del_days)\n",
    "\n",
    "for d in query:\n",
    "    print(d.date, d.close)"
   ]
  },
  {
   "cell_type": "code",
   "execution_count": 20,
   "metadata": {},
   "outputs": [
    {
     "data": {
      "text/plain": [
       "datetime.date(2001, 7, 20)"
      ]
     },
     "execution_count": 20,
     "metadata": {},
     "output_type": "execute_result"
    }
   ],
   "source": [
    "from dateutil.parser import parse\n",
    "\n",
    "parse('2001-07-20').date()"
   ]
  },
  {
   "cell_type": "code",
   "execution_count": 32,
   "metadata": {},
   "outputs": [],
   "source": [
    "# update test\n",
    "\n",
    "\n",
    "query = orm.select(dp for dp in DailyPrice \n",
    "                   if dp.asset.code == asset and dp.date < parse('2001-07-20').date())\n",
    "\n",
    "\n",
    "for dp in query:\n",
    "    dp.open *= 6\n",
    "    dp.high *= 6\n",
    "    dp.low *= 6\n",
    "    dp.close *= 6\n",
    "    dp.volume /= 6\n",
    "        \n",
    "orm.commit()"
   ]
  },
  {
   "cell_type": "code",
   "execution_count": 34,
   "metadata": {},
   "outputs": [],
   "source": [
    "# update test\n",
    "\n",
    "\n",
    "query = orm.select(dp for dp in DailyPrice if dp.asset.code == asset) \\\n",
    "    .filter(lambda x: x.date >= parse('2001-07-16') and x.date <= parse('2001-08-02'))\n",
    "\n",
    "for dp in query:\n",
    "    dp.delete()\n",
    "    \n",
    "orm.commit()"
   ]
  },
  {
   "cell_type": "code",
   "execution_count": 37,
   "metadata": {},
   "outputs": [
    {
     "data": {
      "text/plain": [
       "'000120'"
      ]
     },
     "execution_count": 37,
     "metadata": {},
     "output_type": "execute_result"
    }
   ],
   "source": [
    "asset"
   ]
  },
  {
   "cell_type": "code",
   "execution_count": 39,
   "metadata": {},
   "outputs": [
    {
     "name": "stdout",
     "output_type": "stream",
     "text": [
      "000120 CJ대한통운\n"
     ]
    }
   ],
   "source": [
    "# is_adjusted\n",
    "\n",
    "query = orm.select(a for a in Asset if a.code == asset)\n",
    "\n",
    "for a in query:\n",
    "    print(a.code, a.name)\n",
    "    a.is_adjusted = True\n",
    "    \n",
    "orm.commit()"
   ]
  }
 ],
 "metadata": {
  "kernelspec": {
   "display_name": "Python 3",
   "language": "python",
   "name": "python3"
  },
  "language_info": {
   "codemirror_mode": {
    "name": "ipython",
    "version": 3
   },
   "file_extension": ".py",
   "mimetype": "text/x-python",
   "name": "python",
   "nbconvert_exporter": "python",
   "pygments_lexer": "ipython3",
   "version": "3.7.3"
  }
 },
 "nbformat": 4,
 "nbformat_minor": 2
}
