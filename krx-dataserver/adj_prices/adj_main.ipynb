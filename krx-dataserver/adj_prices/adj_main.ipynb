{
 "cells": [
  {
   "cell_type": "code",
   "execution_count": 1,
   "metadata": {},
   "outputs": [
    {
     "data": {
      "text/plain": [
       "True"
      ]
     },
     "execution_count": 1,
     "metadata": {},
     "output_type": "execute_result"
    }
   ],
   "source": [
    "from environs import Env\n",
    "\n",
    "from models import (\n",
    "    db,\n",
    "    Asset,\n",
    "    DailyPrice,\n",
    ")\n",
    "\n",
    "env = Env()\n",
    "env.read_env()"
   ]
  },
  {
   "cell_type": "code",
   "execution_count": 2,
   "metadata": {},
   "outputs": [],
   "source": [
    "db.bind(provider='postgres',\n",
    "        user=env.str('DB_USER'),\n",
    "        password=env.str('DB_PASSWORD'),\n",
    "        host=env.str('DB_HOST'),\n",
    "        database=env.str('DB'),\n",
    "       )\n",
    "\n",
    "db.generate_mapping()"
   ]
  },
  {
   "cell_type": "code",
   "execution_count": 4,
   "metadata": {},
   "outputs": [
    {
     "data": {
      "text/plain": [
       "Asset['000020']"
      ]
     },
     "execution_count": 4,
     "metadata": {},
     "output_type": "execute_result"
    }
   ],
   "source": [
    "from pony import orm\n",
    "\n",
    "query = orm.select(a for a in Asset)\n",
    "query.first()"
   ]
  },
  {
   "cell_type": "code",
   "execution_count": 7,
   "metadata": {},
   "outputs": [
    {
     "data": {
      "text/plain": [
       "DailyPrice[639098]"
      ]
     },
     "execution_count": 7,
     "metadata": {},
     "output_type": "execute_result"
    }
   ],
   "source": [
    "from datetime import date\n",
    "\n",
    "asset = '000240'\n",
    "\n",
    "query = orm.select(d for d in DailyPrice if d.asset.code == asset)\n",
    "query.first()"
   ]
  }
 ],
 "metadata": {
  "kernelspec": {
   "display_name": "Python 3",
   "language": "python",
   "name": "python3"
  },
  "language_info": {
   "codemirror_mode": {
    "name": "ipython",
    "version": 3
   },
   "file_extension": ".py",
   "mimetype": "text/x-python",
   "name": "python",
   "nbconvert_exporter": "python",
   "pygments_lexer": "ipython3",
   "version": "3.7.3"
  }
 },
 "nbformat": 4,
 "nbformat_minor": 2
}
