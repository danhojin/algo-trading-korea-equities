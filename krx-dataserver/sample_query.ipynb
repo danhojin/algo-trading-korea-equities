{
 "cells": [
  {
   "cell_type": "code",
   "execution_count": 1,
   "metadata": {},
   "outputs": [],
   "source": [
    "import numpy as np\n",
    "import pandas as pd\n",
    "import matplotlib.pyplot as plt\n",
    "import requests\n",
    "import json\n",
    "%matplotlib inline"
   ]
  },
  {
   "cell_type": "code",
   "execution_count": 11,
   "metadata": {},
   "outputs": [
    {
     "data": {
      "text/plain": [
       "200"
      ]
     },
     "execution_count": 11,
     "metadata": {},
     "output_type": "execute_result"
    }
   ],
   "source": [
    "url = 'http://localhost:8000/dailyprices/001040/20170101/20190601'\n",
    "r = requests.get(url)\n",
    "r.status_code"
   ]
  },
  {
   "cell_type": "code",
   "execution_count": 12,
   "metadata": {},
   "outputs": [
    {
     "data": {
      "text/html": [
       "<div>\n",
       "<style scoped>\n",
       "    .dataframe tbody tr th:only-of-type {\n",
       "        vertical-align: middle;\n",
       "    }\n",
       "\n",
       "    .dataframe tbody tr th {\n",
       "        vertical-align: top;\n",
       "    }\n",
       "\n",
       "    .dataframe thead th {\n",
       "        text-align: right;\n",
       "    }\n",
       "</style>\n",
       "<table border=\"1\" class=\"dataframe\">\n",
       "  <thead>\n",
       "    <tr style=\"text-align: right;\">\n",
       "      <th></th>\n",
       "      <th>open</th>\n",
       "      <th>high</th>\n",
       "      <th>low</th>\n",
       "      <th>close</th>\n",
       "      <th>volume</th>\n",
       "    </tr>\n",
       "  </thead>\n",
       "  <tbody>\n",
       "    <tr>\n",
       "      <th>2019-05-20</th>\n",
       "      <td>104000.0</td>\n",
       "      <td>105000.0</td>\n",
       "      <td>103000.0</td>\n",
       "      <td>103500.0</td>\n",
       "      <td>28851.0</td>\n",
       "    </tr>\n",
       "    <tr>\n",
       "      <th>2019-05-17</th>\n",
       "      <td>105500.0</td>\n",
       "      <td>106500.0</td>\n",
       "      <td>103000.0</td>\n",
       "      <td>104000.0</td>\n",
       "      <td>44664.0</td>\n",
       "    </tr>\n",
       "    <tr>\n",
       "      <th>2019-05-16</th>\n",
       "      <td>107000.0</td>\n",
       "      <td>107500.0</td>\n",
       "      <td>104000.0</td>\n",
       "      <td>105000.0</td>\n",
       "      <td>64234.0</td>\n",
       "    </tr>\n",
       "    <tr>\n",
       "      <th>2019-05-15</th>\n",
       "      <td>107000.0</td>\n",
       "      <td>107500.0</td>\n",
       "      <td>105000.0</td>\n",
       "      <td>107000.0</td>\n",
       "      <td>68937.0</td>\n",
       "    </tr>\n",
       "    <tr>\n",
       "      <th>2019-05-14</th>\n",
       "      <td>107500.0</td>\n",
       "      <td>108000.0</td>\n",
       "      <td>105000.0</td>\n",
       "      <td>106500.0</td>\n",
       "      <td>92820.0</td>\n",
       "    </tr>\n",
       "  </tbody>\n",
       "</table>\n",
       "</div>"
      ],
      "text/plain": [
       "                open      high       low     close   volume\n",
       "2019-05-20  104000.0  105000.0  103000.0  103500.0  28851.0\n",
       "2019-05-17  105500.0  106500.0  103000.0  104000.0  44664.0\n",
       "2019-05-16  107000.0  107500.0  104000.0  105000.0  64234.0\n",
       "2019-05-15  107000.0  107500.0  105000.0  107000.0  68937.0\n",
       "2019-05-14  107500.0  108000.0  105000.0  106500.0  92820.0"
      ]
     },
     "execution_count": 12,
     "metadata": {},
     "output_type": "execute_result"
    }
   ],
   "source": [
    "data = r.json()\n",
    "index = [k for k in data]\n",
    "data = list([v for v in data.values()])\n",
    "df = pd.DataFrame(data, columns=['open', 'high', 'low', 'close', 'volume'])\n",
    "df.index = index\n",
    "df.head()"
   ]
  },
  {
   "cell_type": "code",
   "execution_count": 13,
   "metadata": {},
   "outputs": [
    {
     "data": {
      "text/plain": [
       "<matplotlib.axes._subplots.AxesSubplot at 0x7fea282cfe10>"
      ]
     },
     "execution_count": 13,
     "metadata": {},
     "output_type": "execute_result"
    },
    {
     "data": {
      "image/png": "[encoded data removed]",
      "text/plain": [
       "<Figure size 432x288 with 1 Axes>"
      ]
     },
     "metadata": {
      "needs_background": "light"
     },
     "output_type": "display_data"
    }
   ],
   "source": [
    "df['close'].plot()"
   ]
  },
  {
   "cell_type": "code",
   "execution_count": 15,
   "metadata": {},
   "outputs": [
    {
     "data": {
      "text/html": [
       "<div>\n",
       "<style scoped>\n",
       "    .dataframe tbody tr th:only-of-type {\n",
       "        vertical-align: middle;\n",
       "    }\n",
       "\n",
       "    .dataframe tbody tr th {\n",
       "        vertical-align: top;\n",
       "    }\n",
       "\n",
       "    .dataframe thead th {\n",
       "        text-align: right;\n",
       "    }\n",
       "</style>\n",
       "<table border=\"1\" class=\"dataframe\">\n",
       "  <thead>\n",
       "    <tr style=\"text-align: right;\">\n",
       "      <th></th>\n",
       "      <th>open</th>\n",
       "      <th>high</th>\n",
       "      <th>low</th>\n",
       "      <th>close</th>\n",
       "      <th>volume</th>\n",
       "    </tr>\n",
       "  </thead>\n",
       "  <tbody>\n",
       "    <tr>\n",
       "      <th>2017-01-02</th>\n",
       "      <td>188500.0</td>\n",
       "      <td>189500.0</td>\n",
       "      <td>186000.0</td>\n",
       "      <td>188000.0</td>\n",
       "      <td>48875.0</td>\n",
       "    </tr>\n",
       "    <tr>\n",
       "      <th>2017-01-03</th>\n",
       "      <td>188000.0</td>\n",
       "      <td>188000.0</td>\n",
       "      <td>183000.0</td>\n",
       "      <td>185500.0</td>\n",
       "      <td>74046.0</td>\n",
       "    </tr>\n",
       "    <tr>\n",
       "      <th>2017-01-04</th>\n",
       "      <td>185000.0</td>\n",
       "      <td>187000.0</td>\n",
       "      <td>184000.0</td>\n",
       "      <td>185000.0</td>\n",
       "      <td>45631.0</td>\n",
       "    </tr>\n",
       "    <tr>\n",
       "      <th>2017-01-05</th>\n",
       "      <td>185000.0</td>\n",
       "      <td>192000.0</td>\n",
       "      <td>184500.0</td>\n",
       "      <td>191000.0</td>\n",
       "      <td>90911.0</td>\n",
       "    </tr>\n",
       "    <tr>\n",
       "      <th>2017-01-06</th>\n",
       "      <td>190000.0</td>\n",
       "      <td>193000.0</td>\n",
       "      <td>187500.0</td>\n",
       "      <td>192500.0</td>\n",
       "      <td>67665.0</td>\n",
       "    </tr>\n",
       "  </tbody>\n",
       "</table>\n",
       "</div>"
      ],
      "text/plain": [
       "                open      high       low     close   volume\n",
       "2017-01-02  188500.0  189500.0  186000.0  188000.0  48875.0\n",
       "2017-01-03  188000.0  188000.0  183000.0  185500.0  74046.0\n",
       "2017-01-04  185000.0  187000.0  184000.0  185000.0  45631.0\n",
       "2017-01-05  185000.0  192000.0  184500.0  191000.0  90911.0\n",
       "2017-01-06  190000.0  193000.0  187500.0  192500.0  67665.0"
      ]
     },
     "execution_count": 15,
     "metadata": {},
     "output_type": "execute_result"
    }
   ],
   "source": [
    "df = df.sort_index()\n",
    "df.head()"
   ]
  },
  {
   "cell_type": "code",
   "execution_count": 16,
   "metadata": {},
   "outputs": [
    {
     "data": {
      "text/plain": [
       "<matplotlib.axes._subplots.AxesSubplot at 0x7fea1be50128>"
      ]
     },
     "execution_count": 16,
     "metadata": {},
     "output_type": "execute_result"
    },
    {
     "data": {
      "image/png": "[encoded data removed]",
      "text/plain": [
       "<Figure size 432x288 with 1 Axes>"
      ]
     },
     "metadata": {
      "needs_background": "light"
     },
     "output_type": "display_data"
    }
   ],
   "source": [
    "df['close'].plot()"
   ]
  },
  {
   "cell_type": "code",
   "execution_count": null,
   "metadata": {},
   "outputs": [],
   "source": []
  }
 ],
 "metadata": {
  "kernelspec": {
   "display_name": "Python 3",
   "language": "python",
   "name": "python3"
  },
  "language_info": {
   "codemirror_mode": {
    "name": "ipython",
    "version": 3
   },
   "file_extension": ".py",
   "mimetype": "text/x-python",
   "name": "python",
   "nbconvert_exporter": "python",
   "pygments_lexer": "ipython3",
   "version": "3.7.3"
  }
 },
 "nbformat": 4,
 "nbformat_minor": 2
}
